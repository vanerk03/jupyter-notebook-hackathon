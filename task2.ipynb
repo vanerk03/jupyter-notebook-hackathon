{
 "cells": [
  {
   "cell_type": "code",
   "execution_count": 1,
   "metadata": {},
   "outputs": [
    {
     "name": "stdout",
     "output_type": "stream",
     "text": [
      "Collecting sklearn\n",
      "  Using cached sklearn-0.0.post4.tar.gz (3.6 kB)\n",
      "  Preparing metadata (setup.py): started\n",
      "  Preparing metadata (setup.py): finished with status 'error'\n"
     ]
    },
    {
     "name": "stderr",
     "output_type": "stream",
     "text": [
      "  error: subprocess-exited-with-error\n",
      "  \n",
      "  × python setup.py egg_info did not run successfully.\n",
      "  │ exit code: 1\n",
      "  ╰─> [8 lines of output]\n",
      "      Traceback (most recent call last):\n",
      "        File \"<string>\", line 2, in <module>\n",
      "        File \"<pip-setuptools-caller>\", line 34, in <module>\n",
      "        File \"C:\\Users\\Ivan\\AppData\\Local\\Temp\\pip-install-b7qm7rgc\\sklearn_5b0e257b46a64dd1bfd97ff8aa6cf0b8\\setup.py\", line 10, in <module>\n",
      "          LONG_DESCRIPTION = f.read()\n",
      "        File \"D:\\Programms\\Python3.10\\lib\\encodings\\cp1252.py\", line 23, in decode\n",
      "          return codecs.charmap_decode(input,self.errors,decoding_table)[0]\n",
      "      UnicodeDecodeError: 'charmap' codec can't decode byte 0x8f in position 7: character maps to <undefined>\n",
      "      [end of output]\n",
      "  \n",
      "  note: This error originates from a subprocess, and is likely not a problem with pip.\n",
      "error: metadata-generation-failed\n",
      "\n",
      "× Encountered error while generating package metadata.\n",
      "╰─> See above for output.\n",
      "\n",
      "note: This is an issue with the package mentioned above, not pip.\n",
      "hint: See above for details.\n",
      "\n",
      "[notice] A new release of pip available: 22.3.1 -> 23.1.2\n",
      "[notice] To update, run: python.exe -m pip install --upgrade pip\n"
     ]
    },
    {
     "name": "stdout",
     "output_type": "stream",
     "text": [
      "Requirement already satisfied: lightgbm in d:\\nup\\hackathon_env\\lib\\site-packages (3.3.5)\n",
      "Requirement already satisfied: wheel in d:\\nup\\hackathon_env\\lib\\site-packages (from lightgbm) (0.38.4)\n",
      "Requirement already satisfied: scipy in d:\\nup\\hackathon_env\\lib\\site-packages (from lightgbm) (1.10.1)\n",
      "Requirement already satisfied: scikit-learn!=0.22.0 in d:\\nup\\hackathon_env\\lib\\site-packages (from lightgbm) (1.2.2)\n",
      "Requirement already satisfied: numpy in d:\\nup\\hackathon_env\\lib\\site-packages (from lightgbm) (1.24.3)\n",
      "Requirement already satisfied: threadpoolctl>=2.0.0 in d:\\nup\\hackathon_env\\lib\\site-packages (from scikit-learn!=0.22.0->lightgbm) (3.1.0)\n",
      "Requirement already satisfied: joblib>=1.1.1 in d:\\nup\\hackathon_env\\lib\\site-packages (from scikit-learn!=0.22.0->lightgbm) (1.2.0)\n"
     ]
    },
    {
     "name": "stderr",
     "output_type": "stream",
     "text": [
      "\n",
      "[notice] A new release of pip available: 22.3.1 -> 23.1.2\n",
      "[notice] To update, run: python.exe -m pip install --upgrade pip\n"
     ]
    }
   ],
   "source": [
    "!pip install sklearn\n",
    "!pip install lightgbm\n"
   ]
  },
  {
   "cell_type": "code",
   "execution_count": 2,
   "metadata": {
    "ExecuteTime": {
     "end_time": "2023-04-26T16:12:14.666731Z",
     "start_time": "2023-04-26T16:12:14.634105Z"
    }
   },
   "outputs": [
    {
     "name": "stdout",
     "output_type": "stream",
     "text": [
      "(5833, 32)\n",
      "(1927, 32)\n",
      "(1918, 21)\n"
     ]
    }
   ],
   "source": [
    "import pandas as pd\n",
    "import lightgbm as lgb\n",
    "from sklearn.metrics import accuracy_score, f1_score\n",
    "from sklearn.feature_extraction.text import TfidfVectorizer\n",
    "import scipy\n",
    "from scipy.sparse import hstack\n",
    "\n",
    "features_path = 'data/task2/'\n",
    "test_features = pd.read_pickle(features_path+'test_features.pkl')\n",
    "train_features = pd.read_pickle(features_path+'train_features.pkl')\n",
    "validation_features = pd.read_pickle(features_path+'validation_features.pkl')\n",
    "\n",
    "train_features.index = range(train_features.shape[0])\n",
    "validation_features.index = range(validation_features.shape[0])\n",
    "test_features.index = range(test_features.shape[0])\n",
    "\n",
    "\n",
    "train_features.fillna(0, inplace=True)\n",
    "test_features.fillna(0, inplace=True)\n",
    "validation_features.fillna(0, inplace=True)\n",
    "\n",
    "\n",
    "print(train_features.shape)\n",
    "print(validation_features.shape)\n",
    "print(test_features.shape)"
   ]
  },
  {
   "cell_type": "code",
   "execution_count": 3,
   "metadata": {},
   "outputs": [
    {
     "data": {
      "text/plain": [
       "Index(['filename', 'cell_type', 'cell_number', 'execution_count',\n",
       "       'linesofcomment', 'linesofcode', 'variable_count', 'function_count',\n",
       "       'text/plain', 'image/png', 'text/html', 'execute_result',\n",
       "       'display_data', 'stream', 'error', 'text', 'comment',\n",
       "       'code_line_before', 'code_line_after', 'markdown_heading',\n",
       "       'packages_info', 'primary_label', 'helper_functions', 'load_data',\n",
       "       'data_exploration', 'data_preprocessing', 'evaluation', 'modelling',\n",
       "       'prediction', 'result_visualization', 'save_results', 'comment_only'],\n",
       "      dtype='object')"
      ]
     },
     "execution_count": 3,
     "metadata": {},
     "output_type": "execute_result"
    }
   ],
   "source": [
    "train_features.columns\n",
    "validation_features.columns"
   ]
  },
  {
   "cell_type": "code",
   "execution_count": 4,
   "metadata": {
    "ExecuteTime": {
     "end_time": "2023-04-26T16:12:35.388786Z",
     "start_time": "2023-04-26T16:12:35.376467Z"
    }
   },
   "outputs": [],
   "source": [
    "\n",
    "target_drop = [\"primary_label\", \"load_data\", \"helper_functions\", \n",
    "          \"data_preprocessing\", \"data_exploration\", \"modelling\", \n",
    "          \"prediction\", \"evaluation\", \"result_visualization\", \n",
    "          \"save_results\", \"comment_only\"]\n",
    "\n",
    "target = train_features[\"primary_label\"]\n",
    "train_features.drop(columns=target, inplace=True)"
   ]
  },
  {
   "cell_type": "code",
   "execution_count": 5,
   "metadata": {},
   "outputs": [
    {
     "data": {
      "text/plain": [
       "1716    [finaldf['start_day'] = pd.DatetimeIndex(final...\n",
       "1818                                             [%reset]\n",
       "343               [col_diff = df_tmp[df_tmp.d > 350].col]\n",
       "1231                         [sns.distplot(ROTMM['HDD'])]\n",
       "224                                    [print(fd_stores)]\n",
       "875                                      [mapping.head()]\n",
       "1795    [pyplot.imshow(helper.images_square_grid(mnist...\n",
       "261                            [gs.fit(X_train, y_train)]\n",
       "1104               [data = parse_reddit(reddit, the_url)]\n",
       "1174                           [H_colors = add_colors(H)]\n",
       "Name: code_line_before, dtype: object"
      ]
     },
     "execution_count": 5,
     "metadata": {},
     "output_type": "execute_result"
    }
   ],
   "source": [
    "validation_features[\"code_line_before\"].sample(10)"
   ]
  },
  {
   "cell_type": "code",
   "execution_count": 6,
   "metadata": {
    "ExecuteTime": {
     "end_time": "2023-04-26T16:13:27.981328Z",
     "start_time": "2023-04-26T16:13:27.979105Z"
    }
   },
   "outputs": [],
   "source": [
    "train_features.text[1]\n",
    "\n",
    "train_features[\"text\"] = train_features[\"text\"].apply(lambda x: \" \".join(x))\n",
    "validation_features[\"text\"] = validation_features[\"text\"].apply(lambda x: \" \".join(x))\n",
    "test_features[\"text\"] = test_features[\"text\"].apply(lambda x: \" \".join(x))\n"
   ]
  },
  {
   "cell_type": "code",
   "execution_count": 7,
   "metadata": {},
   "outputs": [
    {
     "data": {
      "text/plain": [
       "0       import matplotlib.pyplot as plt import numpy a...\n",
       "1           length = 80  # x range depth = 200  # z range\n",
       "2       model = 1 + np.tri(depth, length, -depth//3) p...\n",
       "3       model[:depth//3,:] = 0 plt.imshow(model) plt.c...\n",
       "4       rocks = np.array([[2700, 2750], [2400, 2450], ...\n",
       "                              ...                        \n",
       "1922                   print(num_mistakes_dict['177'][1])\n",
       "1923    print(num_mistakes_dict['279'][1]) print(\"----...\n",
       "1924    print(num_mistakes_dict['2854'][1]) print(\"---...\n",
       "1925    error_type_dict = {} for key in error_dict: fo...\n",
       "1926    misspelled_words = {} for key in error_dict: f...\n",
       "Name: text, Length: 1927, dtype: object"
      ]
     },
     "execution_count": 7,
     "metadata": {},
     "output_type": "execute_result"
    }
   ],
   "source": [
    "validation_features[\"text\"] "
   ]
  },
  {
   "cell_type": "code",
   "execution_count": 8,
   "metadata": {},
   "outputs": [],
   "source": [
    "train_columns = ['cell_number', 'execution_count', 'linesofcomment', 'linesofcode', \n",
    "                 'variable_count', 'function_count', 'display_data', 'stream', 'error']"
   ]
  },
  {
   "cell_type": "code",
   "execution_count": 9,
   "metadata": {},
   "outputs": [
    {
     "data": {
      "text/plain": [
       "primary_label\n",
       "data_exploration        0.285273\n",
       "data_preprocessing      0.239328\n",
       "modelling               0.158066\n",
       "helper_functions        0.080062\n",
       "load_data               0.074404\n",
       "result_visualization    0.050060\n",
       "evaluation              0.039945\n",
       "prediction              0.030859\n",
       "comment_only            0.023144\n",
       "save_results            0.018858\n",
       "Name: proportion, dtype: float64"
      ]
     },
     "execution_count": 9,
     "metadata": {},
     "output_type": "execute_result"
    }
   ],
   "source": [
    "target.value_counts(normalize=True)"
   ]
  },
  {
   "cell_type": "code",
   "execution_count": 10,
   "metadata": {},
   "outputs": [
    {
     "data": {
      "text/plain": [
       "0.7194815024105582"
      ]
     },
     "execution_count": 10,
     "metadata": {},
     "output_type": "execute_result"
    }
   ],
   "source": [
    "vectorizer = TfidfVectorizer()\n",
    "clf = lgb.LGBMClassifier()\n",
    " \n",
    "X = scipy.sparse.csr_matrix(train_features[train_columns].values)\n",
    "X1 = vectorizer.fit_transform(train_features['text'])\n",
    "\n",
    "X = hstack((X, X1)) \n",
    "clf.fit(X, target)\n",
    "\n",
    "X = scipy.sparse.csr_matrix(validation_features[train_columns].values)\n",
    "X1 = vectorizer.transform(validation_features['text'])\n",
    "\n",
    "X = hstack((X, X1)) \n",
    "pred = clf.predict(X)\n",
    "f1_score(pred, validation_features[\"primary_label\"], average='weighted')"
   ]
  },
  {
   "cell_type": "code",
   "execution_count": 11,
   "metadata": {},
   "outputs": [
    {
     "data": {
      "text/plain": [
       "array(['helper_functions', 'modelling', 'data_preprocessing', ...,\n",
       "       'prediction', 'data_preprocessing', 'prediction'], dtype=object)"
      ]
     },
     "execution_count": 11,
     "metadata": {},
     "output_type": "execute_result"
    }
   ],
   "source": [
    "X = scipy.sparse.csr_matrix(test_features[train_columns].values)\n",
    "X1 = vectorizer.transform(test_features['text'])\n",
    "\n",
    "X = hstack((X, X1)) \n",
    "\n",
    "pred = clf.predict(X)\n",
    "pred"
   ]
  },
  {
   "cell_type": "code",
   "execution_count": 12,
   "metadata": {},
   "outputs": [],
   "source": [
    "# convert array into dataframe\n",
    "DF = pd.DataFrame(pred)\n",
    " \n",
    "# save the dataframe as a csv file\n",
    "DF.to_csv(\"submission.csv\")"
   ]
  }
 ],
 "metadata": {
  "kernelspec": {
   "display_name": "Python 3 (ipykernel)",
   "language": "python",
   "name": "python3"
  },
  "language_info": {
   "codemirror_mode": {
    "name": "ipython",
    "version": 3
   },
   "file_extension": ".py",
   "mimetype": "text/x-python",
   "name": "python",
   "nbconvert_exporter": "python",
   "pygments_lexer": "ipython3",
   "version": "3.10.1"
  }
 },
 "nbformat": 4,
 "nbformat_minor": 1
}
