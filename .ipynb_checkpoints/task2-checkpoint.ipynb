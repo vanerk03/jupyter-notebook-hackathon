{
 "cells": [
  {
   "cell_type": "code",
   "execution_count": 208,
   "metadata": {},
   "outputs": [
    {
     "name": "stdout",
     "output_type": "stream",
     "text": [
      "Collecting sklearn\n",
      "  Using cached sklearn-0.0.post4.tar.gz (3.6 kB)\n",
      "  Preparing metadata (setup.py): started\n",
      "  Preparing metadata (setup.py): finished with status 'error'\n"
     ]
    },
    {
     "name": "stderr",
     "output_type": "stream",
     "text": [
      "  error: subprocess-exited-with-error\n",
      "  \n",
      "  python setup.py egg_info did not run successfully.\n",
      "  exit code: 1\n",
      "  \n",
      "  [8 lines of output]\n",
      "  Traceback (most recent call last):\n",
      "    File \"<string>\", line 2, in <module>\n",
      "    File \"<pip-setuptools-caller>\", line 34, in <module>\n",
      "    File \"C:\\Users\\Ivan\\AppData\\Local\\Temp\\pip-install-ogobd9x6\\sklearn_4e7d102cad8b4751aecb80e19a491a10\\setup.py\", line 10, in <module>\n",
      "      LONG_DESCRIPTION = f.read()\n",
      "    File \"D:\\Programms\\Python3.10\\lib\\encodings\\cp1252.py\", line 23, in decode\n",
      "      return codecs.charmap_decode(input,self.errors,decoding_table)[0]\n",
      "  UnicodeDecodeError: 'charmap' codec can't decode byte 0x8f in position 7: character maps to <undefined>\n",
      "  [end of output]\n",
      "  \n",
      "  note: This error originates from a subprocess, and is likely not a problem with pip.\n",
      "error: metadata-generation-failed\n",
      "\n",
      "Encountered error while generating package metadata.\n",
      "\n",
      "See above for output.\n",
      "\n",
      "note: This is an issue with the package mentioned above, not pip.\n",
      "hint: See above for details.\n",
      "\n",
      "[notice] A new release of pip available: 22.3.1 -> 23.1.2\n",
      "[notice] To update, run: python.exe -m pip install --upgrade pip\n"
     ]
    },
    {
     "name": "stdout",
     "output_type": "stream",
     "text": [
      "Requirement already satisfied: lightgbm in d:\\nup\\hackathon_env\\lib\\site-packages (3.3.5)\n",
      "Requirement already satisfied: scipy in d:\\nup\\hackathon_env\\lib\\site-packages (from lightgbm) (1.10.1)\n",
      "Requirement already satisfied: numpy in d:\\nup\\hackathon_env\\lib\\site-packages (from lightgbm) (1.24.3)\n",
      "Requirement already satisfied: scikit-learn!=0.22.0 in d:\\nup\\hackathon_env\\lib\\site-packages (from lightgbm) (1.2.2)\n",
      "Requirement already satisfied: wheel in d:\\nup\\hackathon_env\\lib\\site-packages (from lightgbm) (0.38.4)\n",
      "Requirement already satisfied: threadpoolctl>=2.0.0 in d:\\nup\\hackathon_env\\lib\\site-packages (from scikit-learn!=0.22.0->lightgbm) (3.1.0)\n",
      "Requirement already satisfied: joblib>=1.1.1 in d:\\nup\\hackathon_env\\lib\\site-packages (from scikit-learn!=0.22.0->lightgbm) (1.2.0)\n"
     ]
    },
    {
     "name": "stderr",
     "output_type": "stream",
     "text": [
      "\n",
      "[notice] A new release of pip available: 22.3.1 -> 23.1.2\n",
      "[notice] To update, run: python.exe -m pip install --upgrade pip\n"
     ]
    }
   ],
   "source": [
    "!pip install sklearn\n",
    "!pip install lightgbm\n"
   ]
  },
  {
   "cell_type": "code",
   "execution_count": 209,
   "metadata": {
    "ExecuteTime": {
     "end_time": "2023-04-26T16:12:14.666731Z",
     "start_time": "2023-04-26T16:12:14.634105Z"
    }
   },
   "outputs": [
    {
     "name": "stdout",
     "output_type": "stream",
     "text": [
      "(5833, 32)\n",
      "(1927, 32)\n",
      "(1918, 21)\n"
     ]
    }
   ],
   "source": [
    "import pandas as pd\n",
    "import lightgbm as lgb\n",
    "from sklearn.metrics import accuracy_score\n",
    "from sklearn.feature_extraction.text import TfidfVectorizer\n",
    "import scipy\n",
    "from scipy.sparse import hstack\n",
    "from sklearn.model_selection import train_test_split\n",
    "\n",
    "features_path = 'data/task2/'\n",
    "test_features = pd.read_pickle(features_path+'test_features.pkl')\n",
    "train_features = pd.read_pickle(features_path+'train_features.pkl')\n",
    "validation_features = pd.read_pickle(features_path+'validation_features.pkl')\n",
    "\n",
    "train_features.index = range(train_features.shape[0])\n",
    "validation_features.index = range(validation_features.shape[0])\n",
    "test_features.index = range(test_features.shape[0])\n",
    "\n",
    "\n",
    "train_features.fillna(0, inplace=True)\n",
    "# train_features[train_features['text'] == 0]['text'] = \"NONE\"\n",
    "# train_features[train_features['code_line_after'] == 0]['code_line_after'] = \"NONE\"\n",
    "# train_features[train_features['code_line_before'] == 0]['code_line_before'] = \"NONE\"\n",
    "\n",
    "test_features.fillna(0, inplace=True)\n",
    "validation_features.fillna(0, inplace=True)\n",
    "\n",
    "\n",
    "print(train_features.shape)\n",
    "print(validation_features.shape)\n",
    "print(test_features.shape)"
   ]
  },
  {
   "cell_type": "code",
   "execution_count": 210,
   "metadata": {},
   "outputs": [
    {
     "data": {
      "text/plain": [
       "Index(['filename', 'cell_type', 'cell_number', 'execution_count',\n",
       "       'linesofcomment', 'linesofcode', 'variable_count', 'function_count',\n",
       "       'text/plain', 'image/png', 'text/html', 'execute_result',\n",
       "       'display_data', 'stream', 'error', 'text', 'comment',\n",
       "       'code_line_before', 'code_line_after', 'markdown_heading',\n",
       "       'packages_info', 'primary_label', 'helper_functions', 'load_data',\n",
       "       'data_exploration', 'data_preprocessing', 'evaluation', 'modelling',\n",
       "       'prediction', 'result_visualization', 'save_results', 'comment_only'],\n",
       "      dtype='object')"
      ]
     },
     "execution_count": 210,
     "metadata": {},
     "output_type": "execute_result"
    }
   ],
   "source": [
    "train_features.columns\n",
    "validation_features.columns"
   ]
  },
  {
   "cell_type": "code",
   "execution_count": 211,
   "metadata": {
    "ExecuteTime": {
     "end_time": "2023-04-26T16:12:35.388786Z",
     "start_time": "2023-04-26T16:12:35.376467Z"
    }
   },
   "outputs": [],
   "source": [
    "\n",
    "target_drop = [\"primary_label\", \"load_data\", \"helper_functions\", \n",
    "          \"data_preprocessing\", \"data_exploration\", \"modelling\", \n",
    "          \"prediction\", \"evaluation\", \"result_visualization\", \n",
    "          \"save_results\", \"comment_only\"]\n",
    "\n",
    "target = train_features[\"primary_label\"]\n",
    "train_features.drop(columns=target, inplace=True)"
   ]
  },
  {
   "cell_type": "code",
   "execution_count": 212,
   "metadata": {},
   "outputs": [
    {
     "data": {
      "text/plain": [
       "1452                                        [return rmse]\n",
       "1360                 [test = pd.DataFrame([[1,2],[3,4]])]\n",
       "297                                 [movieratings.keys()]\n",
       "1555    [details_df = details_df[(details_df['Warehous...\n",
       "1768    [class_1 = df_train[df_train['target_eval'] ==...\n",
       "287     [travel_time_data = Table.read_table('../minil...\n",
       "694                                       [return concat]\n",
       "814                  [return getCountFrequency(words, 1)]\n",
       "1924                 [print(num_mistakes_dict['176'][1])]\n",
       "1703    [df_data_race_manner_of_death = pd.DataFrame(t...\n",
       "Name: code_line_before, dtype: object"
      ]
     },
     "execution_count": 212,
     "metadata": {},
     "output_type": "execute_result"
    }
   ],
   "source": [
    "validation_features[\"code_line_before\"].sample(10)"
   ]
  },
  {
   "cell_type": "code",
   "execution_count": 213,
   "metadata": {
    "ExecuteTime": {
     "end_time": "2023-04-26T16:13:27.981328Z",
     "start_time": "2023-04-26T16:13:27.979105Z"
    }
   },
   "outputs": [],
   "source": [
    "train_features.text[1]\n",
    "from sklearn.feature_extraction.text import TfidfVectorizer\n",
    "\n",
    "# text = train_features[\"text\"]\n",
    "# vectorizer = TfidfVectorizer()\n",
    "# X = vectorizer.fit_transform(corpus)\n",
    "\n",
    "train_features[\"text\"] = train_features[\"text\"].apply(lambda x: \" \".join(x))\n",
    "validation_features[\"text\"] = validation_features[\"text\"].apply(lambda x: \" \".join(x))\n",
    "test_features[\"text\"] = test_features[\"text\"].apply(lambda x: \" \".join(x))\n"
   ]
  },
  {
   "cell_type": "code",
   "execution_count": 214,
   "metadata": {},
   "outputs": [
    {
     "data": {
      "text/plain": [
       "0       import matplotlib.pyplot as plt import numpy a...\n",
       "1           length = 80  # x range depth = 200  # z range\n",
       "2       model = 1 + np.tri(depth, length, -depth//3) p...\n",
       "3       model[:depth//3,:] = 0 plt.imshow(model) plt.c...\n",
       "4       rocks = np.array([[2700, 2750], [2400, 2450], ...\n",
       "                              ...                        \n",
       "1922                   print(num_mistakes_dict['177'][1])\n",
       "1923    print(num_mistakes_dict['279'][1]) print(\"----...\n",
       "1924    print(num_mistakes_dict['2854'][1]) print(\"---...\n",
       "1925    error_type_dict = {} for key in error_dict: fo...\n",
       "1926    misspelled_words = {} for key in error_dict: f...\n",
       "Name: text, Length: 1927, dtype: object"
      ]
     },
     "execution_count": 214,
     "metadata": {},
     "output_type": "execute_result"
    }
   ],
   "source": [
    "validation_features[\"text\"] "
   ]
  },
  {
   "cell_type": "code",
   "execution_count": 215,
   "metadata": {},
   "outputs": [],
   "source": [
    "clf = lgb.LGBMClassifier()"
   ]
  },
  {
   "cell_type": "code",
   "execution_count": 216,
   "metadata": {},
   "outputs": [
    {
     "data": {
      "text/html": [
       "<style>#sk-container-id-7 {color: black;background-color: white;}#sk-container-id-7 pre{padding: 0;}#sk-container-id-7 div.sk-toggleable {background-color: white;}#sk-container-id-7 label.sk-toggleable__label {cursor: pointer;display: block;width: 100%;margin-bottom: 0;padding: 0.3em;box-sizing: border-box;text-align: center;}#sk-container-id-7 label.sk-toggleable__label-arrow:before {content: \"▸\";float: left;margin-right: 0.25em;color: #696969;}#sk-container-id-7 label.sk-toggleable__label-arrow:hover:before {color: black;}#sk-container-id-7 div.sk-estimator:hover label.sk-toggleable__label-arrow:before {color: black;}#sk-container-id-7 div.sk-toggleable__content {max-height: 0;max-width: 0;overflow: hidden;text-align: left;background-color: #f0f8ff;}#sk-container-id-7 div.sk-toggleable__content pre {margin: 0.2em;color: black;border-radius: 0.25em;background-color: #f0f8ff;}#sk-container-id-7 input.sk-toggleable__control:checked~div.sk-toggleable__content {max-height: 200px;max-width: 100%;overflow: auto;}#sk-container-id-7 input.sk-toggleable__control:checked~label.sk-toggleable__label-arrow:before {content: \"▾\";}#sk-container-id-7 div.sk-estimator input.sk-toggleable__control:checked~label.sk-toggleable__label {background-color: #d4ebff;}#sk-container-id-7 div.sk-label input.sk-toggleable__control:checked~label.sk-toggleable__label {background-color: #d4ebff;}#sk-container-id-7 input.sk-hidden--visually {border: 0;clip: rect(1px 1px 1px 1px);clip: rect(1px, 1px, 1px, 1px);height: 1px;margin: -1px;overflow: hidden;padding: 0;position: absolute;width: 1px;}#sk-container-id-7 div.sk-estimator {font-family: monospace;background-color: #f0f8ff;border: 1px dotted black;border-radius: 0.25em;box-sizing: border-box;margin-bottom: 0.5em;}#sk-container-id-7 div.sk-estimator:hover {background-color: #d4ebff;}#sk-container-id-7 div.sk-parallel-item::after {content: \"\";width: 100%;border-bottom: 1px solid gray;flex-grow: 1;}#sk-container-id-7 div.sk-label:hover label.sk-toggleable__label {background-color: #d4ebff;}#sk-container-id-7 div.sk-serial::before {content: \"\";position: absolute;border-left: 1px solid gray;box-sizing: border-box;top: 0;bottom: 0;left: 50%;z-index: 0;}#sk-container-id-7 div.sk-serial {display: flex;flex-direction: column;align-items: center;background-color: white;padding-right: 0.2em;padding-left: 0.2em;position: relative;}#sk-container-id-7 div.sk-item {position: relative;z-index: 1;}#sk-container-id-7 div.sk-parallel {display: flex;align-items: stretch;justify-content: center;background-color: white;position: relative;}#sk-container-id-7 div.sk-item::before, #sk-container-id-7 div.sk-parallel-item::before {content: \"\";position: absolute;border-left: 1px solid gray;box-sizing: border-box;top: 0;bottom: 0;left: 50%;z-index: -1;}#sk-container-id-7 div.sk-parallel-item {display: flex;flex-direction: column;z-index: 1;position: relative;background-color: white;}#sk-container-id-7 div.sk-parallel-item:first-child::after {align-self: flex-end;width: 50%;}#sk-container-id-7 div.sk-parallel-item:last-child::after {align-self: flex-start;width: 50%;}#sk-container-id-7 div.sk-parallel-item:only-child::after {width: 0;}#sk-container-id-7 div.sk-dashed-wrapped {border: 1px dashed gray;margin: 0 0.4em 0.5em 0.4em;box-sizing: border-box;padding-bottom: 0.4em;background-color: white;}#sk-container-id-7 div.sk-label label {font-family: monospace;font-weight: bold;display: inline-block;line-height: 1.2em;}#sk-container-id-7 div.sk-label-container {text-align: center;}#sk-container-id-7 div.sk-container {/* jupyter's `normalize.less` sets `[hidden] { display: none; }` but bootstrap.min.css set `[hidden] { display: none !important; }` so we also need the `!important` here to be able to override the default hidden behavior on the sphinx rendered scikit-learn.org. See: https://github.com/scikit-learn/scikit-learn/issues/21755 */display: inline-block !important;position: relative;}#sk-container-id-7 div.sk-text-repr-fallback {display: none;}</style><div id=\"sk-container-id-7\" class=\"sk-top-container\"><div class=\"sk-text-repr-fallback\"><pre>LGBMClassifier()</pre><b>In a Jupyter environment, please rerun this cell to show the HTML representation or trust the notebook. <br />On GitHub, the HTML representation is unable to render, please try loading this page with nbviewer.org.</b></div><div class=\"sk-container\" hidden><div class=\"sk-item\"><div class=\"sk-estimator sk-toggleable\"><input class=\"sk-toggleable__control sk-hidden--visually\" id=\"sk-estimator-id-7\" type=\"checkbox\" checked><label for=\"sk-estimator-id-7\" class=\"sk-toggleable__label sk-toggleable__label-arrow\">LGBMClassifier</label><div class=\"sk-toggleable__content\"><pre>LGBMClassifier()</pre></div></div></div></div></div>"
      ],
      "text/plain": [
       "LGBMClassifier()"
      ]
     },
     "execution_count": 216,
     "metadata": {},
     "output_type": "execute_result"
    }
   ],
   "source": [
    "train_columns = ['cell_number', 'execution_count', 'linesofcomment', 'linesofcode', \n",
    "                 'variable_count', 'function_count', 'display_data', 'stream', 'error']\n",
    "\n",
    "clf.fit(train_features[train_columns], target)"
   ]
  },
  {
   "cell_type": "code",
   "execution_count": 217,
   "metadata": {},
   "outputs": [
    {
     "data": {
      "text/plain": [
       "primary_label\n",
       "data_exploration        0.285273\n",
       "data_preprocessing      0.239328\n",
       "modelling               0.158066\n",
       "helper_functions        0.080062\n",
       "load_data               0.074404\n",
       "result_visualization    0.050060\n",
       "evaluation              0.039945\n",
       "prediction              0.030859\n",
       "comment_only            0.023144\n",
       "save_results            0.018858\n",
       "Name: proportion, dtype: float64"
      ]
     },
     "execution_count": 217,
     "metadata": {},
     "output_type": "execute_result"
    }
   ],
   "source": [
    "target.value_counts(normalize=True)"
   ]
  },
  {
   "cell_type": "code",
   "execution_count": 218,
   "metadata": {},
   "outputs": [
    {
     "data": {
      "text/plain": [
       "0.7194815024105582"
      ]
     },
     "execution_count": 218,
     "metadata": {},
     "output_type": "execute_result"
    }
   ],
   "source": [
    "def transform(X, text_column, vectorizer):    \n",
    "    X2 = vectorizer.transform(text_column)\n",
    "    return hstack((X, X2)) \n",
    "\n",
    "vectorizer1 = TfidfVectorizer()\n",
    "vectorizer2 = TfidfVectorizer()\n",
    "vectorizer3 = TfidfVectorizer()\n",
    " \n",
    "X = scipy.sparse.csr_matrix(train_features[train_columns].values)\n",
    "X1 = vectorizer.fit_transform(train_features['text'])\n",
    "\n",
    "X = hstack((X, X1)) \n",
    "\n",
    "clf = lgb.LGBMClassifier()\n",
    "clf.fit(X, target)\n",
    "\n",
    "\n",
    "\n",
    "X = scipy.sparse.csr_matrix(validation_features[train_columns].values)\n",
    "X1 = vectorizer.transform(validation_features['text'])\n",
    "\n",
    "X = hstack((X, X1)) \n",
    "\n",
    "pred = clf.predict(X)\n",
    "f1_score(pred, validation_features[\"primary_label\"], average='weighted')"
   ]
  },
  {
   "cell_type": "code",
   "execution_count": 220,
   "metadata": {},
   "outputs": [
    {
     "data": {
      "text/plain": [
       "array(['helper_functions', 'modelling', 'data_preprocessing', ...,\n",
       "       'prediction', 'data_preprocessing', 'prediction'], dtype=object)"
      ]
     },
     "execution_count": 220,
     "metadata": {},
     "output_type": "execute_result"
    }
   ],
   "source": [
    "X = scipy.sparse.csr_matrix(test_features[train_columns].values)\n",
    "X1 = vectorizer.transform(test_features['text'])\n",
    "\n",
    "X = hstack((X, X1)) \n",
    "\n",
    "pred = clf.predict(X)\n",
    "pred"
   ]
  },
  {
   "cell_type": "code",
   "execution_count": 221,
   "metadata": {},
   "outputs": [],
   "source": [
    "# convert array into dataframe\n",
    "DF = pd.DataFrame(pred)\n",
    " \n",
    "# save the dataframe as a csv file\n",
    "DF.to_csv(\"submission.csv\")"
   ]
  }
 ],
 "metadata": {
  "kernelspec": {
   "display_name": "Python 3 (ipykernel)",
   "language": "python",
   "name": "python3"
  },
  "language_info": {
   "codemirror_mode": {
    "name": "ipython",
    "version": 3
   },
   "file_extension": ".py",
   "mimetype": "text/x-python",
   "name": "python",
   "nbconvert_exporter": "python",
   "pygments_lexer": "ipython3",
   "version": "3.10.1"
  }
 },
 "nbformat": 4,
 "nbformat_minor": 1
}
